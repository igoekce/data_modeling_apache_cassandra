{
 "cells": [
  {
   "cell_type": "code",
   "execution_count": 1,
   "metadata": {
    "editable": true
   },
   "outputs": [],
   "source": [
    "# import in pandas to get a quick view\n",
    "import pandas as pd\n",
    "import numpy as np\n",
    "collist = []\n",
    "df = pd.read_csv('event_datafile_new.csv')"
   ]
  },
  {
   "cell_type": "code",
   "execution_count": 2,
   "metadata": {
    "editable": true
   },
   "outputs": [
    {
     "name": "stdout",
     "output_type": "stream",
     "text": [
      "<class 'pandas.core.frame.DataFrame'>\n",
      "RangeIndex: 6820 entries, 0 to 6819\n",
      "Data columns (total 11 columns):\n",
      "artist           6820 non-null object\n",
      "firstName        6820 non-null object\n",
      "gender           6820 non-null object\n",
      "itemInSession    6820 non-null int64\n",
      "lastName         6820 non-null object\n",
      "length           6820 non-null float64\n",
      "level            6820 non-null object\n",
      "location         6820 non-null object\n",
      "sessionId        6820 non-null int64\n",
      "song             6820 non-null object\n",
      "userId           6820 non-null int64\n",
      "dtypes: float64(1), int64(3), object(7)\n",
      "memory usage: 586.2+ KB\n"
     ]
    }
   ],
   "source": [
    "df.info()"
   ]
  },
  {
   "cell_type": "code",
   "execution_count": 3,
   "metadata": {
    "editable": true
   },
   "outputs": [
    {
     "name": "stdout",
     "output_type": "stream",
     "text": [
      "['0 artist text', '1 firstname text', '2 gender text', '3 iteminsession text', '4 lastname text', '5 length text', '6 level text', '7 location text', '8 sessionid text', '9 song text', '10 userid text']\n"
     ]
    }
   ],
   "source": [
    "#read in columns to create tables\n",
    "df.columns\n",
    "\n",
    "n=0\n",
    "\n",
    "for i in df.columns:\n",
    "    x = str(n) + str(' ') + str(i) + str(' text')\n",
    "    x.casefold()\n",
    "    n = n+1\n",
    "    collist.append(x)\n",
    "collist = [x.lower() for x in collist]\n",
    "print(collist)"
   ]
  },
  {
   "cell_type": "code",
   "execution_count": 4,
   "metadata": {
    "editable": true
   },
   "outputs": [
    {
     "data": {
      "text/html": [
       "<div>\n",
       "<style scoped>\n",
       "    .dataframe tbody tr th:only-of-type {\n",
       "        vertical-align: middle;\n",
       "    }\n",
       "\n",
       "    .dataframe tbody tr th {\n",
       "        vertical-align: top;\n",
       "    }\n",
       "\n",
       "    .dataframe thead th {\n",
       "        text-align: right;\n",
       "    }\n",
       "</style>\n",
       "<table border=\"1\" class=\"dataframe\">\n",
       "  <thead>\n",
       "    <tr style=\"text-align: right;\">\n",
       "      <th></th>\n",
       "      <th>artist</th>\n",
       "      <th>firstName</th>\n",
       "      <th>gender</th>\n",
       "      <th>itemInSession</th>\n",
       "      <th>lastName</th>\n",
       "      <th>length</th>\n",
       "      <th>level</th>\n",
       "      <th>location</th>\n",
       "      <th>sessionId</th>\n",
       "      <th>song</th>\n",
       "      <th>userId</th>\n",
       "    </tr>\n",
       "  </thead>\n",
       "  <tbody>\n",
       "    <tr>\n",
       "      <th>1906</th>\n",
       "      <td>Pixies</td>\n",
       "      <td>Ava</td>\n",
       "      <td>F</td>\n",
       "      <td>1</td>\n",
       "      <td>Robinson</td>\n",
       "      <td>89.36444</td>\n",
       "      <td>free</td>\n",
       "      <td>New Haven-Milford, CT</td>\n",
       "      <td>338</td>\n",
       "      <td>Build High</td>\n",
       "      <td>50</td>\n",
       "    </tr>\n",
       "    <tr>\n",
       "      <th>1907</th>\n",
       "      <td>The Roots / Jack Davey</td>\n",
       "      <td>Ava</td>\n",
       "      <td>F</td>\n",
       "      <td>2</td>\n",
       "      <td>Robinson</td>\n",
       "      <td>155.95057</td>\n",
       "      <td>free</td>\n",
       "      <td>New Haven-Milford, CT</td>\n",
       "      <td>338</td>\n",
       "      <td>Atonement</td>\n",
       "      <td>50</td>\n",
       "    </tr>\n",
       "    <tr>\n",
       "      <th>1908</th>\n",
       "      <td>Mike And The Mechanics</td>\n",
       "      <td>Ava</td>\n",
       "      <td>F</td>\n",
       "      <td>3</td>\n",
       "      <td>Robinson</td>\n",
       "      <td>275.12118</td>\n",
       "      <td>free</td>\n",
       "      <td>New Haven-Milford, CT</td>\n",
       "      <td>338</td>\n",
       "      <td>A Beggar On A Beach Of Gold</td>\n",
       "      <td>50</td>\n",
       "    </tr>\n",
       "    <tr>\n",
       "      <th>1909</th>\n",
       "      <td>Faithless</td>\n",
       "      <td>Ava</td>\n",
       "      <td>F</td>\n",
       "      <td>4</td>\n",
       "      <td>Robinson</td>\n",
       "      <td>495.30730</td>\n",
       "      <td>free</td>\n",
       "      <td>New Haven-Milford, CT</td>\n",
       "      <td>338</td>\n",
       "      <td>Music Matters (Mark Knight Dub)</td>\n",
       "      <td>50</td>\n",
       "    </tr>\n",
       "  </tbody>\n",
       "</table>\n",
       "</div>"
      ],
      "text/plain": [
       "                      artist firstName gender  itemInSession  lastName  \\\n",
       "1906                  Pixies       Ava      F              1  Robinson   \n",
       "1907  The Roots / Jack Davey       Ava      F              2  Robinson   \n",
       "1908  Mike And The Mechanics       Ava      F              3  Robinson   \n",
       "1909               Faithless       Ava      F              4  Robinson   \n",
       "\n",
       "         length level               location  sessionId  \\\n",
       "1906   89.36444  free  New Haven-Milford, CT        338   \n",
       "1907  155.95057  free  New Haven-Milford, CT        338   \n",
       "1908  275.12118  free  New Haven-Milford, CT        338   \n",
       "1909  495.30730  free  New Haven-Milford, CT        338   \n",
       "\n",
       "                                 song  userId  \n",
       "1906                       Build High      50  \n",
       "1907                        Atonement      50  \n",
       "1908      A Beggar On A Beach Of Gold      50  \n",
       "1909  Music Matters (Mark Knight Dub)      50  "
      ]
     },
     "execution_count": 4,
     "metadata": {},
     "output_type": "execute_result"
    }
   ],
   "source": [
    "## TO-DO: Query 2: Give me only the following: name of artist, song (sorted by itemInSession) and user (first and last name)\\\n",
    "## for userid = 10, sessionid = 182\n",
    "\n",
    "#df[df['sessionId'] == 336]\n",
    "df[(df['sessionId'] == 338) | (df['sessionId'] == 4)]"
   ]
  },
  {
   "cell_type": "code",
   "execution_count": 8,
   "metadata": {
    "editable": true
   },
   "outputs": [
    {
     "data": {
      "text/plain": [
       "array([   3,    5,    6,    8,    9,   10,   15,   17,   19,   21,   23,\n",
       "         28,   31,   33,   42,   47,   52,   53,   56,   58,   59,   60,\n",
       "         64,   66,   70,   72,   75,   78,   82,   83,   86,   87,   88,\n",
       "         90,   91,  100,  107,  108,  112,  113,  117,  118,  124,  125,\n",
       "        126,  128,  129,  130,  131,  132,  133,  134,  135,  136,  138,\n",
       "        139,  140,  141,  142,  143,  145,  147,  148,  150,  152,  153,\n",
       "        156,  157,  158,  159,  162,  164,  165,  166,  167,  168,  169,\n",
       "        170,  171,  172,  174,  176,  177,  178,  179,  181,  182,  183,\n",
       "        184,  185,  186,  187,  188,  189,  190,  191,  192,  193,  194,\n",
       "        195,  196,  197,  198,  199,  204,  205,  206,  207,  208,  209,\n",
       "        210,  211,  212,  213,  215,  218,  219,  220,  221,  222,  223,\n",
       "        224,  225,  226,  227,  228,  229,  231,  232,  235,  237,  239,\n",
       "        240,  242,  243,  244,  245,  246,  247,  248,  249,  250,  251,\n",
       "        252,  254,  255,  256,  258,  259,  261,  262,  263,  264,  265,\n",
       "        266,  267,  268,  269,  270,  271,  272,  274,  275,  276,  277,\n",
       "        278,  279,  280,  282,  284,  285,  286,  288,  290,  291,  292,\n",
       "        293,  294,  295,  296,  297,  298,  299,  300,  301,  304,  305,\n",
       "        307,  311,  312,  313,  314,  315,  316,  317,  318,  319,  321,\n",
       "        322,  323,  324,  325,  328,  329,  330,  331,  333,  334,  335,\n",
       "        336,  338,  339,  340,  341,  342,  343,  344,  345,  346,  349,\n",
       "        350,  351,  353,  354,  356,  357,  358,  360,  362,  363,  364,\n",
       "        366,  368,  369,  370,  371,  372,  373,  374,  375,  376,  377,\n",
       "        378,  379,  380,  381,  382,  383,  384,  386,  387,  388,  389,\n",
       "        391,  392,  393,  394,  395,  396,  397,  398,  399,  402,  403,\n",
       "        404,  405,  406,  407,  408,  409,  410,  411,  413,  414,  415,\n",
       "        416,  417,  418,  419,  420,  421,  422,  423,  425,  427,  428,\n",
       "        430,  431,  432,  433,  434,  435,  436,  437,  438,  439,  440,\n",
       "        441,  442,  443,  444,  445,  446,  447,  448,  449,  450,  451,\n",
       "        452,  453,  454,  455,  456,  458,  459,  461,  462,  464,  465,\n",
       "        467,  468,  469,  471,  472,  473,  474,  475,  476,  477,  478,\n",
       "        479,  480,  481,  482,  484,  485,  486,  487,  488,  489,  490,\n",
       "        491,  492,  493,  494,  495,  496,  497,  498,  499,  500,  501,\n",
       "        502,  503,  504,  505,  506,  507,  508,  509,  510,  511,  512,\n",
       "        514,  515,  516,  517,  518,  520,  522,  525,  526,  527,  528,\n",
       "        529,  530,  531,  532,  533,  534,  535,  537,  538,  540,  541,\n",
       "        542,  543,  544,  545,  546,  547,  548,  549,  550,  551,  552,\n",
       "        553,  554,  555,  556,  557,  558,  559,  561,  564,  565,  568,\n",
       "        570,  571,  572,  574,  575,  576,  577,  578,  579,  581,  582,\n",
       "        583,  584,  585,  587,  588,  589,  591,  592,  594,  595,  597,\n",
       "        598,  599,  600,  601,  602,  603,  604,  605,  606,  607,  609,\n",
       "        610,  611,  612,  614,  616,  617,  618,  619,  620,  621,  622,\n",
       "        623,  624,  625,  626,  627,  628,  629,  630,  631,  632,  633,\n",
       "        634,  636,  637,  639,  640,  642,  644,  645,  646,  647,  648,\n",
       "        649,  651,  653,  656,  657,  658,  659,  660,  661,  662,  663,\n",
       "        665,  666,  667,  669,  670,  671,  672,  673,  675,  676,  677,\n",
       "        679,  680,  681,  682,  683,  684,  686,  687,  688,  690,  691,\n",
       "        692,  693,  694,  695,  696,  697,  698,  702,  703,  704,  705,\n",
       "        706,  707,  708,  709,  710,  711,  714,  715,  716,  717,  719,\n",
       "        720,  721,  722,  723,  724,  725,  726,  727,  728,  729,  732,\n",
       "        735,  736,  739,  740,  743,  744,  745,  746,  747,  748,  749,\n",
       "        751,  755,  756,  758,  759,  760,  761,  763,  764,  765,  767,\n",
       "        768,  770,  772,  773,  774,  776,  781,  783,  784,  785,  786,\n",
       "        787,  789,  790,  791,  793,  794,  796,  797,  798,  800,  801,\n",
       "        805,  806,  807,  808,  809,  810,  811,  812,  813,  814,  815,\n",
       "        816,  817,  818,  819,  820,  821,  822,  823,  824,  825,  826,\n",
       "        827,  828,  829,  833,  834,  836,  837,  838,  839,  841,  842,\n",
       "        843,  845,  846,  847,  848,  849,  850,  851,  852,  853,  854,\n",
       "        856,  858,  860,  864,  865,  867,  868,  869,  870,  871,  873,\n",
       "        874,  875,  876,  877,  879,  881,  883,  884,  885,  886,  887,\n",
       "        888,  889,  890,  891,  892,  893,  896,  898,  899,  900,  901,\n",
       "        903,  904,  905,  906,  908,  910,  913,  915,  916,  917,  919,\n",
       "        921,  922,  923,  924,  925,  926,  927,  929,  930,  931,  933,\n",
       "        934,  935,  936,  937,  938,  940,  941,  942,  944,  946,  948,\n",
       "        949,  951,  953,  954,  955,  957,  958,  959,  960,  961,  963,\n",
       "        964,  967,  968,  969,  976,  977,  978,  979,  982,  983,  984,\n",
       "        985,  986,  987,  988,  989,  990,  991,  992,  996,  998,  999,\n",
       "       1000, 1002, 1003, 1004, 1005, 1006, 1007, 1008, 1010, 1011, 1013,\n",
       "       1016, 1017, 1019, 1020, 1023, 1026, 1029, 1032, 1036, 1038, 1039,\n",
       "       1041, 1045, 1046, 1047, 1049, 1050, 1051, 1054, 1055, 1058, 1059,\n",
       "       1060, 1064, 1065, 1068, 1069, 1075, 1076, 1078, 1079, 1082, 1085,\n",
       "       1090, 1092, 1096, 1097, 1100, 1114])"
      ]
     },
     "execution_count": 8,
     "metadata": {},
     "output_type": "execute_result"
    }
   ],
   "source": [
    "np.sort(df['sessionId'].unique())"
   ]
  },
  {
   "cell_type": "code",
   "execution_count": 9,
   "metadata": {
    "editable": true
   },
   "outputs": [
    {
     "data": {
      "text/plain": [
       "Index(['artist', 'firstName', 'gender', 'itemInSession', 'lastName', 'length',\n",
       "       'level', 'location', 'sessionId', 'song', 'userId'],\n",
       "      dtype='object')"
      ]
     },
     "execution_count": 9,
     "metadata": {},
     "output_type": "execute_result"
    }
   ],
   "source": [
    "df.columns"
   ]
  },
  {
   "cell_type": "code",
   "execution_count": null,
   "metadata": {
    "editable": true
   },
   "outputs": [],
   "source": []
  },
  {
   "cell_type": "code",
   "execution_count": 10,
   "metadata": {
    "editable": true
   },
   "outputs": [
    {
     "data": {
      "text/html": [
       "<div>\n",
       "<style scoped>\n",
       "    .dataframe tbody tr th:only-of-type {\n",
       "        vertical-align: middle;\n",
       "    }\n",
       "\n",
       "    .dataframe tbody tr th {\n",
       "        vertical-align: top;\n",
       "    }\n",
       "\n",
       "    .dataframe thead th {\n",
       "        text-align: right;\n",
       "    }\n",
       "</style>\n",
       "<table border=\"1\" class=\"dataframe\">\n",
       "  <thead>\n",
       "    <tr style=\"text-align: right;\">\n",
       "      <th></th>\n",
       "      <th>artist</th>\n",
       "      <th>firstName</th>\n",
       "      <th>gender</th>\n",
       "      <th>itemInSession</th>\n",
       "      <th>lastName</th>\n",
       "      <th>length</th>\n",
       "      <th>level</th>\n",
       "      <th>location</th>\n",
       "      <th>sessionId</th>\n",
       "      <th>song</th>\n",
       "      <th>userId</th>\n",
       "    </tr>\n",
       "  </thead>\n",
       "  <tbody>\n",
       "    <tr>\n",
       "      <th>84</th>\n",
       "      <td>The Black Keys</td>\n",
       "      <td>Tegan</td>\n",
       "      <td>F</td>\n",
       "      <td>25</td>\n",
       "      <td>Levine</td>\n",
       "      <td>196.91057</td>\n",
       "      <td>paid</td>\n",
       "      <td>Portland-South Portland, ME</td>\n",
       "      <td>611</td>\n",
       "      <td>All Hands Against His Own</td>\n",
       "      <td>80</td>\n",
       "    </tr>\n",
       "    <tr>\n",
       "      <th>3810</th>\n",
       "      <td>The Black Keys</td>\n",
       "      <td>Sara</td>\n",
       "      <td>F</td>\n",
       "      <td>31</td>\n",
       "      <td>Johnson</td>\n",
       "      <td>196.91057</td>\n",
       "      <td>paid</td>\n",
       "      <td>Winston-Salem, NC</td>\n",
       "      <td>152</td>\n",
       "      <td>All Hands Against His Own</td>\n",
       "      <td>95</td>\n",
       "    </tr>\n",
       "    <tr>\n",
       "      <th>4282</th>\n",
       "      <td>The Black Keys</td>\n",
       "      <td>Jacqueline</td>\n",
       "      <td>F</td>\n",
       "      <td>50</td>\n",
       "      <td>Lynch</td>\n",
       "      <td>196.91057</td>\n",
       "      <td>paid</td>\n",
       "      <td>Atlanta-Sandy Springs-Roswell, GA</td>\n",
       "      <td>559</td>\n",
       "      <td>All Hands Against His Own</td>\n",
       "      <td>29</td>\n",
       "    </tr>\n",
       "  </tbody>\n",
       "</table>\n",
       "</div>"
      ],
      "text/plain": [
       "              artist   firstName gender  itemInSession lastName     length  \\\n",
       "84    The Black Keys       Tegan      F             25   Levine  196.91057   \n",
       "3810  The Black Keys        Sara      F             31  Johnson  196.91057   \n",
       "4282  The Black Keys  Jacqueline      F             50    Lynch  196.91057   \n",
       "\n",
       "     level                           location  sessionId  \\\n",
       "84    paid        Portland-South Portland, ME        611   \n",
       "3810  paid                  Winston-Salem, NC        152   \n",
       "4282  paid  Atlanta-Sandy Springs-Roswell, GA        559   \n",
       "\n",
       "                           song  userId  \n",
       "84    All Hands Against His Own      80  \n",
       "3810  All Hands Against His Own      95  \n",
       "4282  All Hands Against His Own      29  "
      ]
     },
     "execution_count": 10,
     "metadata": {},
     "output_type": "execute_result"
    }
   ],
   "source": [
    "df[df['song'] == 'All Hands Against His Own']"
   ]
  },
  {
   "cell_type": "code",
   "execution_count": null,
   "metadata": {
    "editable": true
   },
   "outputs": [],
   "source": []
  },
  {
   "cell_type": "code",
   "execution_count": null,
   "metadata": {
    "editable": true
   },
   "outputs": [],
   "source": []
  }
 ],
 "metadata": {
  "kernelspec": {
   "display_name": "Python 3",
   "language": "python",
   "name": "python3"
  },
  "language_info": {
   "codemirror_mode": {
    "name": "ipython",
    "version": 3
   },
   "file_extension": ".py",
   "mimetype": "text/x-python",
   "name": "python",
   "nbconvert_exporter": "python",
   "pygments_lexer": "ipython3",
   "version": "3.6.3"
  }
 },
 "nbformat": 4,
 "nbformat_minor": 4
}
